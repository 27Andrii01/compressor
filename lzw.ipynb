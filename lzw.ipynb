{
 "cells": [
  {
   "attachments": {},
   "cell_type": "markdown",
   "metadata": {},
   "source": [
    "# Реалізація алгоритиму LZW"
   ]
  },
  {
   "cell_type": "code",
   "execution_count": 3,
   "metadata": {},
   "outputs": [],
   "source": [
    "import matplotlib.pyplot as plt\n",
    "from datetime import datetime\n",
    "import sys"
   ]
  },
  {
   "cell_type": "code",
   "execution_count": 26,
   "metadata": {},
   "outputs": [],
   "source": [
    "class LZW:\n",
    "    \"\"\"\n",
    "    LZW class\n",
    "    \"\"\"\n",
    "    def __init__(self, string):\n",
    "        \"\"\"\n",
    "        Constructor\n",
    "        \"\"\"\n",
    "        s = {x for x in string}\n",
    "        sorted_list = sorted(s)\n",
    "        self.dictionary_size = len(sorted_list)\n",
    "        self.dictionary = {sorted_list[i]: i for i in range(self.dictionary_size)}\n",
    "        self.string = string\n",
    "\n",
    "    def encode(self):\n",
    "        \"\"\"\n",
    "        Encode input string\n",
    "        \"\"\"\n",
    "        result_list = []\n",
    "        sequence = \"\"\n",
    "        for character in self.string:\n",
    "            new_sequence = sequence + character\n",
    "            if new_sequence in self.dictionary:\n",
    "                sequence = new_sequence\n",
    "            else:\n",
    "                result_list.append(self.dictionary[sequence])\n",
    "                self.dictionary[new_sequence] = self.dictionary_size\n",
    "                self.dictionary_size += 1\n",
    "                sequence = character\n",
    "        if sequence:\n",
    "            result_list.append(self.dictionary[sequence])\n",
    "        res = \"\"\n",
    "        return result_list\n",
    "\n",
    "    def decode(self, code):\n",
    "        \"\"\"\n",
    "        Decodes encode to string\n",
    "        \"\"\"\n",
    "        reverse_dict = {v: k for k, v in self.dictionary.items()}\n",
    "        message = \"\"\n",
    "        i = 0\n",
    "        while i < len(code):\n",
    "            if code[i] in reverse_dict:\n",
    "                message += reverse_dict[code[i]]\n",
    "                i += 1\n",
    "            else:\n",
    "                raise ValueError(\"Invalid code\")\n",
    "        return message\n",
    "\n"
   ]
  },
  {
   "attachments": {},
   "cell_type": "markdown",
   "metadata": {},
   "source": [
    "## Виконання алгоритму для файлів різного розміру"
   ]
  },
  {
   "cell_type": "code",
   "execution_count": 39,
   "metadata": {},
   "outputs": [
    {
     "name": "stdout",
     "output_type": "stream",
     "text": [
      "[2208]\n",
      "algorithm work time: 0:00:00.000620\n",
      "text size encoded file: 0.00108 mb\n",
      "text size start file with length : 0.002257 mb\n",
      "на скільки повідомлення закодоване: 94.61050724637681\n",
      "[520200]\n",
      "algorithm work time: 0:00:00.141721\n",
      "text size encoded file: 0.037208 mb\n",
      "text size start file with length : 0.520249 mb\n",
      "на скільки повідомлення закодоване: 99.1236063052672\n",
      "[7489724]\n",
      "algorithm work time: 0:00:03.051528\n",
      "text size encoded file: 0.901144 mb\n",
      "text size start file with length : 7.489773 mb\n",
      "на скільки повідомлення закодоване: 98.60852015374665\n"
     ]
    }
   ],
   "source": [
    "def check_lzw_encode():\n",
    "    data_file = [\"test1.txt\", \"test2.txt\", \"test3.txt\"]\n",
    "    for i in data_file:\n",
    "        with open(i, \"r\", encoding=\"UTF-8\") as data:\n",
    "            test_data = str([i.strip() for i in data.readlines()])\n",
    "        print([len(test_data)])\n",
    "        start_time = datetime.now()\n",
    "        encoded = LZW(test_data).encode()\n",
    "        end_time = datetime.now()\n",
    "        print('algorithm work time: {}'.format(end_time - start_time))\n",
    "        print(f\"text size encoded file: {sys.getsizeof(encoded)/1000000} mb\")\n",
    "        print(f\"text size start file with length : {sys.getsizeof(test_data)/1000000} mb\")\n",
    "        print(f'на скільки повідомлення закодоване: {100-((len(encoded)*100)/(len(test_data)))}')\n",
    "check_lzw_encode()"
   ]
  },
  {
   "attachments": {},
   "cell_type": "markdown",
   "metadata": {},
   "source": [
    "## Час роботи, розмір файлу до і після стиску на файлі розміром 7489724 елементів з буфером розміром\n"
   ]
  },
  {
   "cell_type": "code",
   "execution_count": 35,
   "metadata": {},
   "outputs": [
    {
     "name": "stdout",
     "output_type": "stream",
     "text": [
      "length of file: 7489724\n",
      "algorithm work time: 0:00:00.000096\n",
      "text size encoded file: 0.00012 mb, bufer1000\n",
      "text size start file with length : 7.489773 mb, bufer1000\n",
      "\n",
      "на скільки повідомлення закодоване: 99.99989318698526 %\n"
     ]
    }
   ],
   "source": [
    "data_file = \"test.txt\"\n",
    "with open(data_file, \"r\", encoding=\"UTF-8\") as data:\n",
    "    test_data = str([i.strip() for i in data.readlines()])\n",
    "print(f\"length of file: {len(test_data)}\")\n",
    "start_time = datetime.now()\n",
    "encoded = LZW(string=data_file).encode()\n",
    "end_time = datetime.now()\n",
    "print('algorithm work time: {}'.format(end_time - start_time))\n",
    "print(f\"text size encoded file: {sys.getsizeof(encoded)/1000000} mb, bufer{1000}\")\n",
    "print(f\"text size start file with length : {sys.getsizeof(test_data)/1000000} mb, bufer{1000}\\n\")\n",
    "print(f'на скільки повідомлення закодоване: {100 - ((100 * (len(LZW(string=data_file).encode())))/((len(test_data))))} %')\n",
    "                "
   ]
  },
  {
   "attachments": {},
   "cell_type": "markdown",
   "metadata": {},
   "source": [
    "## Побудова графіка на співвідношення часу виконання алгоритму до розміру фаула"
   ]
  },
  {
   "cell_type": "code",
   "execution_count": 34,
   "metadata": {},
   "outputs": [
    {
     "data": {
      "image/png": "[encoded data removed]",
      "text/plain": [
       "<Figure size 640x480 with 1 Axes>"
      ]
     },
     "metadata": {},
     "output_type": "display_data"
    }
   ],
   "source": [
    "def test_lzw():\n",
    "    files = [\"test1.txt\", \"test2.txt\", \"test3.txt\"]\n",
    "    time_taken = []\n",
    "    length = []\n",
    "    for file_path in files:\n",
    "        with open(file_path, 'r', encoding='utf-8') as file:\n",
    "            data = file.read()\n",
    "        length.append(len(data))\n",
    "        start = datetime.now()\n",
    "        lzw = LZW(data)\n",
    "        lzw.encode()\n",
    "        end = datetime.now()\n",
    "        time_taken.append(str(end - start))\n",
    "    plt.xlabel('Text length')\n",
    "    plt.ylabel('Time taken')\n",
    "    x = length\n",
    "    y = time_taken\n",
    "    plt.plot(x, y)\n",
    "test_lzw()"
   ]
  }
 ],
 "metadata": {
  "kernelspec": {
   "display_name": "Python 3",
   "language": "python",
   "name": "python3"
  },
  "language_info": {
   "codemirror_mode": {
    "name": "ipython",
    "version": 3
   },
   "file_extension": ".py",
   "mimetype": "text/x-python",
   "name": "python",
   "nbconvert_exporter": "python",
   "pygments_lexer": "ipython3",
   "version": "3.11.1 (v3.11.1:a7a450f84a, Dec  6 2022, 15:24:06) [Clang 13.0.0 (clang-1300.0.29.30)]"
  },
  "orig_nbformat": 4,
  "vscode": {
   "interpreter": {
    "hash": "aee8b7b246df8f9039afb4144a1f6fd8d2ca17a180786b69acc140d282b71a49"
   }
  }
 },
 "nbformat": 4,
 "nbformat_minor": 2
}
