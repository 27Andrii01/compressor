{
 "cells": [
  {
   "attachments": {},
   "cell_type": "markdown",
   "metadata": {},
   "source": [
    "# Реалізація алгоритму Гафмана"
   ]
  },
  {
   "cell_type": "code",
   "execution_count": 2,
   "metadata": {},
   "outputs": [],
   "source": [
    "import matplotlib.pyplot as plt\n",
    "from datetime import datetime\n",
    "import sys\n",
    "import tqdm"
   ]
  },
  {
   "cell_type": "code",
   "execution_count": 4,
   "metadata": {},
   "outputs": [],
   "source": [
    "class Node:\n",
    "    \"\"\"\n",
    "    Class of the node\n",
    "    \"\"\"\n",
    "    def __init__(self, character=None, frequency=0, left=None, right=None):\n",
    "        \"\"\"\n",
    "        Constructor\n",
    "        \"\"\"\n",
    "        self.character = character\n",
    "        self.frequency = frequency\n",
    "        self.left = left\n",
    "        self.right = right\n",
    "\n",
    "\n",
    "class HuffmanCode:\n",
    "    \"\"\"\n",
    "    Huffman class\n",
    "    \"\"\"\n",
    "    def __init__(self):\n",
    "        \"\"\"\n",
    "        Constructor\n",
    "        \"\"\"\n",
    "        self.frequency_dict = {}\n",
    "        self.code_dict = {}\n",
    "\n",
    "    def build_freq_dict(self, data):\n",
    "        \"\"\"\n",
    "        Builds frequency dict\n",
    "        \"\"\"\n",
    "        for character in data:\n",
    "            if character in self.frequency_dict:\n",
    "                self.frequency_dict[character] += 1\n",
    "            else:\n",
    "                self.frequency_dict[character] = 1\n",
    "\n",
    "    def build_tree(self):\n",
    "        \"\"\"\n",
    "        Builds tree\n",
    "        \"\"\"\n",
    "        nodes = []\n",
    "        for character, frequency in self.frequency_dict.items():\n",
    "            nodes.append(Node(character=character, frequency=frequency))\n",
    "\n",
    "        while len(nodes) > 1:\n",
    "            nodes = sorted(nodes, key=lambda x: x.frequency)\n",
    "            left = nodes.pop(0)\n",
    "            right = nodes.pop(0)\n",
    "            parent = Node(frequency=left.frequency + right.frequency, left=left, right=right)\n",
    "            nodes.append(parent)\n",
    "\n",
    "        return nodes[0]\n",
    "\n",
    "    def build_code_dict(self, node, code=''):\n",
    "        \"\"\"\n",
    "        Build code dictionary\n",
    "        \"\"\"\n",
    "        if not node.left and not node.right:\n",
    "            self.code_dict[node.character] = code\n",
    "        else:\n",
    "            self.build_code_dict(node.left, code + '0')\n",
    "            self.build_code_dict(node.right, code + '1')\n",
    "\n",
    "    def encode(self, data):\n",
    "        \"\"\"\n",
    "        Encode the input data\n",
    "        \"\"\"\n",
    "        self.build_freq_dict(data)\n",
    "        tree = self.build_tree()\n",
    "        self.build_code_dict(tree)\n",
    "        encoded_data = ''.join([self.code_dict[character] for character in data])\n",
    "        return encoded_data\n",
    "\n",
    "    def decode(self, encoded_data):\n",
    "        \"\"\"\n",
    "        Decode Huffman to string\n",
    "        \"\"\"\n",
    "        decoded_text = ''\n",
    "        current = tree = self.build_tree()\n",
    "        for bit in encoded_data:\n",
    "            current = current.left if bit == '0' else current.right\n",
    "            if not current.left and not current.right:\n",
    "                decoded_text += current.character\n",
    "                current = tree\n",
    "\n",
    "        return decoded_text\n"
   ]
  },
  {
   "attachments": {},
   "cell_type": "markdown",
   "metadata": {},
   "source": [
    "## Перевірка на кількість витраченого часу роботи алгоритма з різними файлами, розмір до і після кодування, відсоток стиснення"
   ]
  },
  {
   "cell_type": "code",
   "execution_count": 19,
   "metadata": {},
   "outputs": [
    {
     "name": "stdout",
     "output_type": "stream",
     "text": [
      "length of file: 14979448\n",
      "algorithm work time: 0:00:02.591963\n",
      "text size encoded file: 62.381051 mb, bufer1000\n",
      "text size start file with length : 14.979497 mb\n",
      "на скільки повідомлення закодоване: 47.944508702857405 %\n",
      "\n",
      "length of file: 869\n",
      "algorithm work time: 0:00:00.005246\n",
      "text size encoded file: 0.003332 mb, bufer1000\n",
      "text size start file with length : 0.000918 mb\n",
      "на скільки повідомлення закодоване: 52.77617951668584 %\n",
      "\n",
      "length of file: 520200\n",
      "algorithm work time: 0:00:00.099542\n",
      "text size encoded file: 1.143724 mb, bufer1000\n",
      "text size start file with length : 0.520249 mb\n",
      "на скільки повідомлення закодоване: 72.51838235294117 %\n",
      "\n",
      "length of file: 14979448\n",
      "algorithm work time: 0:00:02.650332\n",
      "text size encoded file: 62.381051 mb, bufer1000\n",
      "text size start file with length : 14.979497 mb\n",
      "на скільки повідомлення закодоване: 47.944508702857405 %\n",
      "\n"
     ]
    }
   ],
   "source": [
    "data_file = [\"test.txt\",\"test1.txt\",\"test2.txt\",\"test3.txt\"]\n",
    "for i in data_file:\n",
    "    with open(i, \"r\", encoding=\"UTF-8\") as data:\n",
    "        test_data = str([i.strip() for i in data.readlines()])\n",
    "    print(f\"length of file: {len(test_data)}\")\n",
    "    start_time = datetime.now()\n",
    "    encoded = HuffmanCode().encode(test_data)\n",
    "    end_time = datetime.now()\n",
    "    print('algorithm work time: {}'.format(end_time - start_time))\n",
    "    print(f\"text size encoded file: {sys.getsizeof(encoded)/1000000} mb, bufer{1000}\")\n",
    "    print(f\"text size start file with length : {sys.getsizeof(test_data)/1000000} mb\")\n",
    "    print(f'на скільки повідомлення закодоване: {100 - ((100 * (len(HuffmanCode().encode(data=test_data))/8))/((len(test_data))))} %\\n')"
   ]
  },
  {
   "attachments": {},
   "cell_type": "markdown",
   "metadata": {},
   "source": [
    "## Побудова графіка для файлів різного розміру порівняння часу до кількості символів"
   ]
  },
  {
   "cell_type": "code",
   "execution_count": 20,
   "metadata": {},
   "outputs": [
    {
     "data": {
      "image/png": "[encoded data removed]",
      "text/plain": [
       "<Figure size 640x480 with 1 Axes>"
      ]
     },
     "metadata": {},
     "output_type": "display_data"
    }
   ],
   "source": [
    "def test_huffman():\n",
    "    files = [\"test1.txt\", \"test2.txt\", \"test3.txt\"]\n",
    "    time_taken = []\n",
    "    length = []\n",
    "    for file_path in files:\n",
    "        with open(file_path, 'r', encoding='utf-8') as file:\n",
    "            data = file.read()\n",
    "        length.append(len(data))\n",
    "        start = datetime.now()\n",
    "        lzw = HuffmanCode()\n",
    "        lzw.encode(data)\n",
    "        end = datetime.now()\n",
    "        time_taken.append(str(end - start))\n",
    "    plt.xlabel('Text length')\n",
    "    plt.ylabel('Time taken')\n",
    "    x = length\n",
    "    y = time_taken\n",
    "    plt.plot(x, y)\n",
    "test_huffman()"
   ]
  }
 ],
 "metadata": {
  "kernelspec": {
   "display_name": "Python 3",
   "language": "python",
   "name": "python3"
  },
  "language_info": {
   "codemirror_mode": {
    "name": "ipython",
    "version": 3
   },
   "file_extension": ".py",
   "mimetype": "text/x-python",
   "name": "python",
   "nbconvert_exporter": "python",
   "pygments_lexer": "ipython3",
   "version": "3.11.1"
  },
  "orig_nbformat": 4,
  "vscode": {
   "interpreter": {
    "hash": "aee8b7b246df8f9039afb4144a1f6fd8d2ca17a180786b69acc140d282b71a49"
   }
  }
 },
 "nbformat": 4,
 "nbformat_minor": 2
}
